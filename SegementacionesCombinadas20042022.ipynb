{
 "cells": [
  {
   "cell_type": "code",
   "execution_count": 36,
   "metadata": {
    "collapsed": true
   },
   "outputs": [],
   "source": [
    "import pandas as pd\n",
    "import plotly.express as px\n",
    "import dash_bootstrap_components as dbc\n",
    "from dash import Dash, dcc, html, Output, Input"
   ]
  },
  {
   "cell_type": "code",
   "execution_count": 37,
   "outputs": [],
   "source": [
    "df = pd.read_excel(\"D:/Zaeli/PrevisionDemanda/SimulacionVolumes.xlsx\", sheet_name='Hoja1')"
   ],
   "metadata": {
    "collapsed": false,
    "pycharm": {
     "name": "#%%\n"
    }
   }
  },
  {
   "cell_type": "code",
   "execution_count": 38,
   "outputs": [],
   "source": [
    "df['Margen'] = df.Receita - df.Costo"
   ],
   "metadata": {
    "collapsed": false,
    "pycharm": {
     "name": "#%%\n"
    }
   }
  },
  {
   "cell_type": "code",
   "execution_count": 39,
   "outputs": [],
   "source": [
    "opciones_linea = list(df.Linea.unique())\n",
    "opciones_linea.sort()\n",
    "opciones_linea.append('Todos')"
   ],
   "metadata": {
    "collapsed": false,
    "pycharm": {
     "name": "#%%\n"
    }
   }
  },
  {
   "cell_type": "code",
   "execution_count": 40,
   "outputs": [],
   "source": [
    "app = Dash(__name__, external_stylesheets=[dbc.themes.BOOTSTRAP])"
   ],
   "metadata": {
    "collapsed": false,
    "pycharm": {
     "name": "#%%\n"
    }
   }
  },
  {
   "cell_type": "code",
   "execution_count": 41,
   "outputs": [],
   "source": [
    "app.layout = html.Div([\n",
    "    html.H3('Dashboard de Ventas'),\n",
    "    html.Br(),\n",
    "    html.Label('Selecione una linea', style={'textAlign':'center'}),\n",
    "    dcc.Dropdown(id='linea_seleccionada',\n",
    "                 options = [{'label':l, 'value':l} for l in sorted(df.Linea.unique())],\n",
    "                 value=None,\n",
    "                 clearable=False,\n",
    "                 style={'width':'45%'}),\n",
    "    html.Label('Seleccione un producto',style={'textAlign':'center'} ),\n",
    "    dcc.Dropdown(id='producto_seleccionado',\n",
    "                 options=[],\n",
    "                 value=[],\n",
    "                 style={'width':'45%'})\n",
    "])"
   ],
   "metadata": {
    "collapsed": false,
    "pycharm": {
     "name": "#%%\n"
    }
   }
  },
  {
   "cell_type": "code",
   "execution_count": 42,
   "outputs": [],
   "source": [
    "@app.callback(\n",
    "    Output('producto_seleccionado', 'options'),\n",
    "    Output('producto_seleccionado', 'value'),\n",
    "    Input('linea_seleccionada', 'value')\n",
    ")\n",
    "\n",
    "def lista_productos(linea):\n",
    "    dff = df.query('Linea == @linea')\n",
    "    productos_linea = [{'label':p, 'value':p} for p in sorted(dff.Producto.unique())]\n",
    "    valores_seleccionados = [x['value'] for x in productos_linea]\n",
    "    return productos_linea, valores_seleccionados"
   ],
   "metadata": {
    "collapsed": false,
    "pycharm": {
     "name": "#%%\n"
    }
   }
  },
  {
   "cell_type": "code",
   "execution_count": 43,
   "outputs": [],
   "source": [
    "# linea = 'Farofa'\n",
    "# dfff = df.query('Linea == @linea')\n",
    "# prod = list(dfff.Producto.unique())"
   ],
   "metadata": {
    "collapsed": false,
    "pycharm": {
     "name": "#%%\n"
    }
   }
  },
  {
   "cell_type": "code",
   "execution_count": null,
   "outputs": [
    {
     "name": "stdout",
     "output_type": "stream",
     "text": [
      "Dash is running on http://127.0.0.1:8050/\n",
      "\n",
      "Dash is running on http://127.0.0.1:8050/\n",
      "\n",
      "Dash is running on http://127.0.0.1:8050/\n",
      "\n",
      "Dash is running on http://127.0.0.1:8050/\n",
      "\n",
      " * Serving Flask app '__main__' (lazy loading)\r\n",
      " * Environment: production\r\n",
      "\u001B[31m   WARNING: This is a development server. Do not use it in a production deployment.\u001B[0m\r\n",
      "\u001B[2m   Use a production WSGI server instead.\u001B[0m\r\n",
      " * Debug mode: off\r\n"
     ]
    },
    {
     "name": "stderr",
     "output_type": "stream",
     "text": [
      " * Running on http://127.0.0.1:8050/ (Press CTRL+C to quit)\n",
      "127.0.0.1 - - [20/Apr/2022 14:04:36] \"GET / HTTP/1.1\" 200 -\n",
      "127.0.0.1 - - [20/Apr/2022 14:04:38] \"GET /_dash-layout HTTP/1.1\" 200 -\n",
      "127.0.0.1 - - [20/Apr/2022 14:04:38] \"GET /_dash-dependencies HTTP/1.1\" 200 -\n",
      "127.0.0.1 - - [20/Apr/2022 14:04:38] \"GET /_dash-component-suites/dash/dcc/async-dropdown.js HTTP/1.1\" 200 -\n",
      "127.0.0.1 - - [20/Apr/2022 14:04:38] \"POST /_dash-update-component HTTP/1.1\" 200 -\n",
      "127.0.0.1 - - [20/Apr/2022 14:04:41] \"POST /_dash-update-component HTTP/1.1\" 200 -\n"
     ]
    }
   ],
   "source": [
    "if __name__ == '__main__':\n",
    "    app.run_server(debug=False)"
   ],
   "metadata": {
    "collapsed": false,
    "pycharm": {
     "name": "#%%\n",
     "is_executing": true
    }
   }
  },
  {
   "cell_type": "code",
   "execution_count": null,
   "outputs": [],
   "source": [],
   "metadata": {
    "collapsed": false,
    "pycharm": {
     "name": "#%%\n",
     "is_executing": true
    }
   }
  }
 ],
 "metadata": {
  "kernelspec": {
   "display_name": "Python 3",
   "language": "python",
   "name": "python3"
  },
  "language_info": {
   "codemirror_mode": {
    "name": "ipython",
    "version": 2
   },
   "file_extension": ".py",
   "mimetype": "text/x-python",
   "name": "python",
   "nbconvert_exporter": "python",
   "pygments_lexer": "ipython2",
   "version": "2.7.6"
  }
 },
 "nbformat": 4,
 "nbformat_minor": 0
}