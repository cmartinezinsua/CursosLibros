{
 "cells": [
  {
   "cell_type": "code",
   "execution_count": 160,
   "metadata": {
    "collapsed": true
   },
   "outputs": [],
   "source": [
    "import dash_bootstrap_components as dbc\n",
    "from dash import Dash, dcc, html, Input,Output\n",
    "import pandas as pd\n",
    "import plotly.express as px"
   ]
  },
  {
   "cell_type": "code",
   "execution_count": 161,
   "outputs": [],
   "source": [
    "app = Dash(__name__, external_stylesheets=[dbc.themes.BOOTSTRAP])"
   ],
   "metadata": {
    "collapsed": false,
    "pycharm": {
     "name": "#%%\n"
    }
   }
  },
  {
   "cell_type": "code",
   "execution_count": 162,
   "outputs": [],
   "source": [
    "df = pd.read_excel(\"D:/Zaeli/PrevisionDemanda/SimulacionVolumes.xlsx\", sheet_name='Hoja1')\n",
    "df['Margen'] = df.Receita - df.Costo"
   ],
   "metadata": {
    "collapsed": false,
    "pycharm": {
     "name": "#%%\n"
    }
   }
  },
  {
   "cell_type": "code",
   "execution_count": 163,
   "outputs": [],
   "source": [
    "opciones_estado = list(df.Estado.unique())\n",
    "opciones_estado.sort()\n",
    "opciones_estado.append('Todos')"
   ],
   "metadata": {
    "collapsed": false,
    "pycharm": {
     "name": "#%%\n"
    }
   }
  },
  {
   "cell_type": "code",
   "execution_count": 164,
   "outputs": [],
   "source": [
    "opciones_producto = list(df.Produto.unique())\n",
    "opciones_producto.sort()\n",
    "opciones_producto.append('Todos')"
   ],
   "metadata": {
    "collapsed": false,
    "pycharm": {
     "name": "#%%\n"
    }
   }
  },
  {
   "cell_type": "code",
   "execution_count": 165,
   "outputs": [],
   "source": [
    "app.layout = dbc.Container([\n",
    "    dbc.Row(dbc.Col(html.H3(\"Dashboard de Ventas\"))),\n",
    "    dbc.Row(\n",
    "        [dbc.Col([\n",
    "            html.H5('Seleccione un estado' ),\n",
    "            dcc.Dropdown(options=opciones_estado, id='estado_seleccionado', value= 'Todos', style={'width': '65%', 'color':'warning'}),\n",
    "        ]),\n",
    "        dbc.Col([\n",
    "            html.H5('Seleccione un producto'),\n",
    "            dcc.Dropdown(options=opciones_producto, id='producto_seleccionado', value= 'Todos', style={'width': '65%'}),\n",
    "        ]),\n",
    "            dbc.Col([\n",
    "                html.H5('Seleccione la fecha' ),\n",
    "                html.Div([\n",
    "                    dcc.DatePickerSingle(\n",
    "                        id='data-picker',\n",
    "                        initial_visible_month=df.Mes.min(),\n",
    "                        min_date_allowed=df.Mes.min(),\n",
    "                        max_date_allowed=df.Mes.max(),\n",
    "                        date=df.Mes.max(),\n",
    "                        display_format='MMMM D, YYYY',\n",
    "                        style={'border':'0px solid black'}\n",
    "\n",
    "                    )\n",
    "                ]),\n",
    "\n",
    "            ])\n",
    "        ], style={'margin-top':'40px', 'height':'75%'}\n",
    "    ),\n",
    "    dbc.Row([\n",
    "        dbc.Col([\n",
    "            dbc.Card([\n",
    "                dbc.CardBody([\n",
    "                    html.Span('Receita'),\n",
    "                    html.H4(id='tarjeta_Receita'),\n",
    "                    html.Span('En reales')\n",
    "                ])\n",
    "            ]),\n",
    "        dbc.Col([\n",
    "            dbc.Card([\n",
    "                dbc.CardBody([\n",
    "                    html.Span('Costo'),\n",
    "                    html.H4(id='tarjeta_costo'),\n",
    "                    html.Span('En reales')\n",
    "                ])\n",
    "            ]),\n",
    "        ]),\n",
    "            dbc.Col([\n",
    "                dbc.Card([\n",
    "                    dbc.CardBody([\n",
    "                        html.Span('Margen'),\n",
    "                        html.H4(id='tarjeta_margen'),\n",
    "                        html.Span('En reales')\n",
    "                    ])\n",
    "                ]),\n",
    "            ])\n",
    "\n",
    "    ]),\n",
    "])\n",
    "])"
   ],
   "metadata": {
    "collapsed": false,
    "pycharm": {
     "name": "#%%\n"
    }
   }
  },
  {
   "cell_type": "code",
   "execution_count": 166,
   "outputs": [
    {
     "name": "stdout",
     "output_type": "stream",
     "text": [
      "Dash is running on http://127.0.0.1:8050/\n",
      "\n",
      "Dash is running on http://127.0.0.1:8050/\n",
      "\n",
      "Dash is running on http://127.0.0.1:8050/\n",
      "\n",
      "Dash is running on http://127.0.0.1:8050/\n",
      "\n",
      "Dash is running on http://127.0.0.1:8050/\n",
      "\n",
      "Dash is running on http://127.0.0.1:8050/\n",
      "\n",
      "Dash is running on http://127.0.0.1:8050/\n",
      "\n",
      "Dash is running on http://127.0.0.1:8050/\n",
      "\n",
      "Dash is running on http://127.0.0.1:8050/\n",
      "\n",
      "Dash is running on http://127.0.0.1:8050/\n",
      "\n",
      "Dash is running on http://127.0.0.1:8050/\n",
      "\n",
      "Dash is running on http://127.0.0.1:8050/\n",
      "\n",
      "Dash is running on http://127.0.0.1:8050/\n",
      "\n",
      "Dash is running on http://127.0.0.1:8050/\n",
      "\n",
      "Dash is running on http://127.0.0.1:8050/\n",
      "\n",
      "Dash is running on http://127.0.0.1:8050/\n",
      "\n",
      "Dash is running on http://127.0.0.1:8050/\n",
      "\n",
      "Dash is running on http://127.0.0.1:8050/\n",
      "\n",
      "Dash is running on http://127.0.0.1:8050/\n",
      "\n",
      "Dash is running on http://127.0.0.1:8050/\n",
      "\n",
      "Dash is running on http://127.0.0.1:8050/\n",
      "\n",
      "Dash is running on http://127.0.0.1:8050/\n",
      "\n",
      "Dash is running on http://127.0.0.1:8050/\n",
      "\n",
      "Dash is running on http://127.0.0.1:8050/\n",
      "\n",
      " * Serving Flask app '__main__' (lazy loading)\r\n",
      " * Environment: production\r\n",
      "\u001B[31m   WARNING: This is a development server. Do not use it in a production deployment.\u001B[0m\r\n",
      "\u001B[2m   Use a production WSGI server instead.\u001B[0m\r\n",
      " * Debug mode: off\r\n"
     ]
    },
    {
     "name": "stderr",
     "output_type": "stream",
     "text": [
      " * Running on http://127.0.0.1:8050/ (Press CTRL+C to quit)\n",
      "127.0.0.1 - - [19/Apr/2022 17:58:21] \"GET / HTTP/1.1\" 200 -\n",
      "127.0.0.1 - - [19/Apr/2022 17:58:21] \"GET /_dash-layout HTTP/1.1\" 200 -\n",
      "127.0.0.1 - - [19/Apr/2022 17:58:21] \"GET /_dash-dependencies HTTP/1.1\" 200 -\n",
      "127.0.0.1 - - [19/Apr/2022 17:58:21] \"GET /_favicon.ico?v=2.2.0 HTTP/1.1\" 200 -\n",
      "127.0.0.1 - - [19/Apr/2022 17:58:21] \"GET /_dash-component-suites/dash/dcc/async-dropdown.js HTTP/1.1\" 200 -\n",
      "127.0.0.1 - - [19/Apr/2022 17:58:21] \"GET /_dash-component-suites/dash/dcc/async-datepicker.js HTTP/1.1\" 200 -\n"
     ]
    }
   ],
   "source": [
    "if __name__ == '__main__':\n",
    "    app.run_server(debug=False)"
   ],
   "metadata": {
    "collapsed": false,
    "pycharm": {
     "name": "#%%\n"
    }
   }
  },
  {
   "cell_type": "code",
   "execution_count": 166,
   "outputs": [],
   "source": [],
   "metadata": {
    "collapsed": false,
    "pycharm": {
     "name": "#%%\n"
    }
   }
  },
  {
   "cell_type": "code",
   "execution_count": 166,
   "outputs": [],
   "source": [],
   "metadata": {
    "collapsed": false,
    "pycharm": {
     "name": "#%%\n"
    }
   }
  }
 ],
 "metadata": {
  "kernelspec": {
   "display_name": "Python 3",
   "language": "python",
   "name": "python3"
  },
  "language_info": {
   "codemirror_mode": {
    "name": "ipython",
    "version": 2
   },
   "file_extension": ".py",
   "mimetype": "text/x-python",
   "name": "python",
   "nbconvert_exporter": "python",
   "pygments_lexer": "ipython2",
   "version": "2.7.6"
  }
 },
 "nbformat": 4,
 "nbformat_minor": 0
}